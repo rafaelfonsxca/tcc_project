{
 "cells": [
  {
   "cell_type": "code",
   "execution_count": 4,
   "metadata": {},
   "outputs": [],
   "source": [
    "import subprocess"
   ]
  },
  {
   "cell_type": "code",
   "execution_count": 5,
   "metadata": {},
   "outputs": [],
   "source": [
    "def cortar_video(input_video, start_time, end_time, output_video):\n",
    "    \"\"\"\n",
    "    Corta um vídeo de acordo com os timestamps inicial e final.\n",
    "\n",
    "    Args:\n",
    "    - input_video (str): Caminho do vídeo de entrada.\n",
    "    - start_time (str): Timestamp inicial no formato 'hh:mm:ss'.\n",
    "    - end_time (str): Timestamp final no formato 'hh:mm:ss'.\n",
    "    - output_video (str): Caminho do vídeo de saída.\n",
    "\n",
    "    Returns:\n",
    "    - None\n",
    "    \"\"\"\n",
    "    # Comando ffmpeg para cortar o vídeo\n",
    "    command = [\n",
    "        'ffmpeg', \n",
    "        '-i', input_video,   # Arquivo de entrada\n",
    "        '-ss', start_time,   # Tempo inicial\n",
    "        '-to', end_time,     # Tempo final\n",
    "        '-c', 'copy',        # Copia sem recodificar\n",
    "        output_video         # Arquivo de saída\n",
    "    ]\n",
    "    \n",
    "    # Executa o comando\n",
    "    subprocess.run(command, check=True)\n",
    "    print(f\"Vídeo cortado e salvo em {output_video}\")"
   ]
  },
  {
   "cell_type": "code",
   "execution_count": 12,
   "metadata": {},
   "outputs": [],
   "source": [
    "# Exemplo de uso:\n",
    "input_video = '../videos/15s-canto-direito.mp4'\n",
    "start_time = '0:00:04'\n",
    "end_time = '0:00:10'\n",
    "output_video = 'videos_cortados/video_cortado_test.mp4'"
   ]
  },
  {
   "cell_type": "code",
   "execution_count": 13,
   "metadata": {},
   "outputs": [
    {
     "name": "stdout",
     "output_type": "stream",
     "text": [
      "Vídeo cortado e salvo em videos_cortados/video_cortado_test.mp4\n"
     ]
    }
   ],
   "source": [
    "cortar_video(input_video, start_time, end_time, output_video)"
   ]
  },
  {
   "cell_type": "code",
   "execution_count": null,
   "metadata": {},
   "outputs": [],
   "source": []
  }
 ],
 "metadata": {
  "kernelspec": {
   "display_name": "venv",
   "language": "python",
   "name": "python3"
  },
  "language_info": {
   "codemirror_mode": {
    "name": "ipython",
    "version": 3
   },
   "file_extension": ".py",
   "mimetype": "text/x-python",
   "name": "python",
   "nbconvert_exporter": "python",
   "pygments_lexer": "ipython3",
   "version": "3.11.4"
  }
 },
 "nbformat": 4,
 "nbformat_minor": 2
}
