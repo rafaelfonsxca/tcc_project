{
 "cells": [
  {
   "cell_type": "code",
   "execution_count": 1,
   "metadata": {},
   "outputs": [],
   "source": [
    "import cv2\n",
    "import numpy as np\n",
    "import json\n",
    "from datetime import timedelta"
   ]
  },
  {
   "cell_type": "code",
   "execution_count": 2,
   "metadata": {},
   "outputs": [],
   "source": [
    "def detectar_logo_no_video(video_path, logo_path, min_match_count=10, ratio_test=0.7):\n",
    "    # Carregar a logotipo target em escala de cinza\n",
    "    logo_image = cv2.imread(logo_path, cv2.IMREAD_GRAYSCALE)\n",
    "    if logo_image is None:\n",
    "        raise IOError(\"Não foi possível carregar a imagem da logotipo.\")\n",
    "\n",
    "    # Iniciar a captura de vídeo\n",
    "    cap = cv2.VideoCapture(video_path)\n",
    "    if not cap.isOpened():\n",
    "        raise IOError(\"Não foi possível abrir o vídeo.\")\n",
    "\n",
    "    # Inicializar o detector SIFT\n",
    "    sift = cv2.SIFT_create()\n",
    "\n",
    "    # Detectar keypoints e descritores na logotipo\n",
    "    kp_logo, des_logo = sift.detectAndCompute(logo_image, None)\n",
    "    if des_logo is None:\n",
    "        raise ValueError(\"Não foi possível encontrar descritores na logotipo.\")\n",
    "\n",
    "    # Configurar o FLANN Matcher\n",
    "    FLANN_INDEX_KDTREE = 1\n",
    "    index_params = dict(algorithm=FLANN_INDEX_KDTREE, trees=5)\n",
    "    search_params = dict(checks=50)  # Número de verificações\n",
    "    flann = cv2.FlannBasedMatcher(index_params, search_params)\n",
    "\n",
    "    # Parâmetros de detecção\n",
    "    logo_present = False\n",
    "    start_time = None\n",
    "    end_time = None\n",
    "    detections = []\n",
    "\n",
    "    # Obter frames por segundo (FPS) do vídeo\n",
    "    fps = cap.get(cv2.CAP_PROP_FPS)\n",
    "    if fps == 0:\n",
    "        raise ValueError(\"FPS do vídeo é 0, verifique o arquivo de vídeo.\")\n",
    "\n",
    "    frame_count = 0\n",
    "\n",
    "    while True:\n",
    "        ret, frame = cap.read()\n",
    "        if not ret:\n",
    "            break  # Fim do vídeo\n",
    "\n",
    "        frame_gray = cv2.cvtColor(frame, cv2.COLOR_BGR2GRAY)\n",
    "\n",
    "        # Detectar keypoints e descritores no frame\n",
    "        kp_frame, des_frame = sift.detectAndCompute(frame_gray, None)\n",
    "\n",
    "        if des_frame is not None:\n",
    "            # Encontrar correspondências usando FLANN\n",
    "            try:\n",
    "                matches = flann.knnMatch(des_logo, des_frame, k=2)\n",
    "            except cv2.error as e:\n",
    "                print(f\"Erro durante a correspondência de características: {e}\")\n",
    "                matches = []\n",
    "\n",
    "            # Aplicar o ratio test de Lowe\n",
    "            good_matches = []\n",
    "            for m_n in matches:\n",
    "                if len(m_n) != 2:\n",
    "                    continue\n",
    "                m, n = m_n\n",
    "                if m.distance < ratio_test * n.distance:\n",
    "                    good_matches.append(m)\n",
    "\n",
    "            if len(good_matches) > min_match_count:\n",
    "                # Encontrou a logotipo no frame\n",
    "                if not logo_present:\n",
    "                    logo_present = True\n",
    "                    start_time = frame_count / fps\n",
    "            else:\n",
    "                if logo_present:\n",
    "                    logo_present = False\n",
    "                    end_time = frame_count / fps\n",
    "                    detections.append({\n",
    "                        \"start\": str(timedelta(seconds=start_time)),\n",
    "                        \"end\": str(timedelta(seconds=end_time))\n",
    "                    })\n",
    "        else:\n",
    "            if logo_present:\n",
    "                logo_present = False\n",
    "                end_time = frame_count / fps\n",
    "                detections.append({\n",
    "                    \"start\": str(timedelta(seconds=start_time)),\n",
    "                    \"end\": str(timedelta(seconds=end_time))\n",
    "                })\n",
    "\n",
    "        frame_count += 1\n",
    "\n",
    "    # Se o vídeo terminar com a logotipo presente\n",
    "    if logo_present:\n",
    "        end_time = frame_count / fps\n",
    "        detections.append({\n",
    "            \"start\": str(timedelta(seconds=start_time)),\n",
    "            \"end\": str(timedelta(seconds=end_time))\n",
    "        })\n",
    "\n",
    "    cap.release()\n",
    "\n",
    "    # Estruturar o resultado\n",
    "    output = {\"detections\": detections}\n",
    "\n",
    "    # Salvar em um arquivo JSON\n",
    "    #with open(output_json_path, 'w') as json_file:\n",
    "        #json.dump(output, json_file, indent=4, ensure_ascii=False)\n",
    "\n",
    "    #print(output)\n",
    "\n",
    "    return output"
   ]
  },
  {
   "cell_type": "code",
   "execution_count": 3,
   "metadata": {},
   "outputs": [],
   "source": [
    "logo_path = \"../target/logo_target.png\"\n",
    "video_path = '../videos/15s-canto-direito.mp4'"
   ]
  },
  {
   "cell_type": "code",
   "execution_count": 4,
   "metadata": {},
   "outputs": [
    {
     "data": {
      "text/plain": [
       "{'detections': [{'start': '0:00:04.733333', 'end': '0:00:04.800000'},\n",
       "  {'start': '0:00:05.500000', 'end': '0:00:05.533333'},\n",
       "  {'start': '0:00:05.833333', 'end': '0:00:06.466667'},\n",
       "  {'start': '0:00:06.500000', 'end': '0:00:07.433333'},\n",
       "  {'start': '0:00:07.666667', 'end': '0:00:07.700000'},\n",
       "  {'start': '0:00:07.866667', 'end': '0:00:07.900000'},\n",
       "  {'start': '0:00:07.933333', 'end': '0:00:08'}]}"
      ]
     },
     "execution_count": 4,
     "metadata": {},
     "output_type": "execute_result"
    }
   ],
   "source": [
    "detectar_logo_no_video(video_path, logo_path)"
   ]
  },
  {
   "cell_type": "code",
   "execution_count": 3,
   "metadata": {},
   "outputs": [
    {
     "name": "stdout",
     "output_type": "stream",
     "text": [
      "entrei\n"
     ]
    }
   ],
   "source": [
    "status = False\n",
    "\n",
    "if not status:\n",
    "    print('entrei')\n",
    "else:\n",
    "    print('não entrei')"
   ]
  }
 ],
 "metadata": {
  "kernelspec": {
   "display_name": "venv",
   "language": "python",
   "name": "python3"
  },
  "language_info": {
   "codemirror_mode": {
    "name": "ipython",
    "version": 3
   },
   "file_extension": ".py",
   "mimetype": "text/x-python",
   "name": "python",
   "nbconvert_exporter": "python",
   "pygments_lexer": "ipython3",
   "version": "3.11.4"
  }
 },
 "nbformat": 4,
 "nbformat_minor": 2
}
