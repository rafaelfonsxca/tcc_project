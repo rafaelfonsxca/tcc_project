{
 "cells": [
  {
   "cell_type": "code",
   "execution_count": 1,
   "metadata": {},
   "outputs": [],
   "source": [
    "import cv2\n",
    "import json\n",
    "from datetime import timedelta"
   ]
  },
  {
   "cell_type": "code",
   "execution_count": 18,
   "metadata": {},
   "outputs": [],
   "source": [
    "def template_matching_video(video_path, logo_path, threshold=0.5):\n",
    "    # Carregar o vídeo e a logotipo alvo\n",
    "    print(video_path)\n",
    "    print(threshold)\n",
    "    video = cv2.VideoCapture(video_path)\n",
    "    template = cv2.imread(logo_path, cv2.IMREAD_COLOR)\n",
    "\n",
    "    # Obter as dimensões da logotipo\n",
    "    w, h = template.shape[1], template.shape[0]\n",
    "\n",
    "    # Informações do vídeo\n",
    "    fps = video.get(cv2.CAP_PROP_FPS)  # Frames por segundo\n",
    "    frame_count = int(video.get(cv2.CAP_PROP_FRAME_COUNT))  # Número total de frames\n",
    "    duration = frame_count / fps  # Duração total do vídeo em segundos\n",
    "\n",
    "    detections = []\n",
    "    detecting = False\n",
    "    start_time = None\n",
    "\n",
    "    frame_idx = 0\n",
    "\n",
    "    while True:\n",
    "        ret, frame = video.read()\n",
    "        if not ret:\n",
    "            break\n",
    "\n",
    "        # Aplicar o template matching no frame atual\n",
    "        result = cv2.matchTemplate(frame, template, cv2.TM_CCORR_NORMED)\n",
    "        min_val, max_val, min_loc, max_loc = cv2.minMaxLoc(result)\n",
    "\n",
    "        # Verificar se a similaridade atingiu o threshold\n",
    "        if max_val >= threshold:\n",
    "            if not detecting:\n",
    "                # Início da detecção\n",
    "                detecting = True\n",
    "                start_time = frame_idx / fps\n",
    "        else:\n",
    "            if detecting:\n",
    "                # Fim da detecção\n",
    "                detecting = False\n",
    "                end_time = frame_idx / fps\n",
    "                detections.append(\n",
    "                    {\n",
    "                        \"start\": str(timedelta(seconds=start_time)),\n",
    "                        \"end\": str(timedelta(seconds=end_time)),\n",
    "                    }\n",
    "                )\n",
    "\n",
    "        frame_idx += 1\n",
    "\n",
    "    # Verificar se a detecção estava ativa até o final do vídeo\n",
    "    if detecting:\n",
    "        end_time = frame_count / fps\n",
    "        detections.append(\n",
    "            {\n",
    "                \"start\": str(timedelta(seconds=start_time)),\n",
    "                \"end\": str(timedelta(seconds=end_time)),\n",
    "            }\n",
    "        )\n",
    "\n",
    "    video.release()\n",
    "\n",
    "    # Salvar os resultados em um arquivo JSON\n",
    "    # with open(output_json_path, \"w\") as json_file:\n",
    "    #     json.dump(detections, json_file, indent=4)\n",
    "\n",
    "    return print(detections)"
   ]
  },
  {
   "cell_type": "code",
   "execution_count": 20,
   "metadata": {},
   "outputs": [
    {
     "name": "stdout",
     "output_type": "stream",
     "text": [
      "../videos/15s-canto-esquerdo-pequeno.mp4\n",
      "0.5\n",
      "[{'start': '0:00:00', 'end': '0:00:15.033333'}]\n"
     ]
    }
   ],
   "source": [
    "video_path = \"../videos/15s-canto-esquerdo-pequeno.mp4\"\n",
    "logo_path = \"../target/logo_target.png\"\n",
    "template_matching_video(video_path, logo_path)"
   ]
  },
  {
   "cell_type": "code",
   "execution_count": null,
   "metadata": {},
   "outputs": [],
   "source": []
  }
 ],
 "metadata": {
  "kernelspec": {
   "display_name": "venv",
   "language": "python",
   "name": "python3"
  },
  "language_info": {
   "codemirror_mode": {
    "name": "ipython",
    "version": 3
   },
   "file_extension": ".py",
   "mimetype": "text/x-python",
   "name": "python",
   "nbconvert_exporter": "python",
   "pygments_lexer": "ipython3",
   "version": "3.11.4"
  }
 },
 "nbformat": 4,
 "nbformat_minor": 2
}
