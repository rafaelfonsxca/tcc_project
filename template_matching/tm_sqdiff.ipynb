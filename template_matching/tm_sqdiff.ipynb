{
 "cells": [
  {
   "cell_type": "code",
   "execution_count": 1,
   "metadata": {},
   "outputs": [],
   "source": [
    "import cv2\n",
    "import json\n",
    "from datetime import timedelta"
   ]
  },
  {
   "cell_type": "code",
   "execution_count": 4,
   "metadata": {},
   "outputs": [],
   "source": [
    "def convert_seconds_to_timecode(seconds):\n",
    "    # Função auxiliar para converter segundos para o formato HH:MM:SS\n",
    "    hours = int(seconds // 3600)\n",
    "    minutes = int((seconds % 3600) // 60)\n",
    "    seconds = int(seconds % 60)\n",
    "    return f\"{hours:02}:{minutes:02}:{seconds:02}\""
   ]
  },
  {
   "cell_type": "code",
   "execution_count": 27,
   "metadata": {},
   "outputs": [],
   "source": [
    "def detect_logo_in_video(video_path, logo_path, threshold=0.5):\n",
    "    # Carregar vídeo e logo\n",
    "    print(video_path)\n",
    "    print(threshold)\n",
    "    cap = cv2.VideoCapture(video_path)\n",
    "    logo = cv2.imread(logo_path, cv2.IMREAD_GRAYSCALE)\n",
    "\n",
    "    # Verificar se o vídeo foi carregado corretamente\n",
    "    if not cap.isOpened():\n",
    "        print(\"Erro ao abrir o vídeo\")\n",
    "        return\n",
    "\n",
    "    # Obter FPS e total de frames para calcular o timestamp\n",
    "    fps = cap.get(cv2.CAP_PROP_FPS)\n",
    "    frame_count = int(cap.get(cv2.CAP_PROP_FRAME_COUNT))\n",
    "\n",
    "    # Variáveis de controle\n",
    "    start_time = None\n",
    "    end_time = None\n",
    "    logo_detected = False\n",
    "    detection_results = []\n",
    "\n",
    "    # Processar o vídeo frame a frame\n",
    "    for frame_idx in range(frame_count):\n",
    "        ret, frame = cap.read()\n",
    "        if not ret:\n",
    "            break\n",
    "        \n",
    "        # Converter frame para grayscale (escala de cinza)\n",
    "        gray_frame = cv2.cvtColor(frame, cv2.COLOR_BGR2GRAY)\n",
    "\n",
    "        # Aplicar template matching\n",
    "        result = cv2.matchTemplate(gray_frame, logo, cv2.TM_SQDIFF_NORMED)\n",
    "        min_val, _, min_loc, _ = cv2.minMaxLoc(result)\n",
    "\n",
    "        # Verificar se a logo foi detectada\n",
    "        if min_val < threshold:\n",
    "            if not logo_detected:\n",
    "                # Primeira detecção\n",
    "                logo_detected = True\n",
    "                start_time = frame_idx / fps\n",
    "        else:\n",
    "            if logo_detected:\n",
    "                # Detecção de desaparecimento\n",
    "                logo_detected = False\n",
    "                end_time = frame_idx / fps\n",
    "\n",
    "                # Salvar o intervalo de tempo da detecção\n",
    "                detection_results.append({\n",
    "                    \"start\": convert_seconds_to_timecode(start_time),\n",
    "                    \"end\": convert_seconds_to_timecode(end_time)\n",
    "                })\n",
    "\n",
    "                # Resetar as variáveis\n",
    "                start_time = None\n",
    "                end_time = None\n",
    "\n",
    "    # Caso a logo tenha sido detectada até o final do vídeo\n",
    "    if logo_detected:\n",
    "        end_time = frame_count / fps\n",
    "        detection_results.append({\n",
    "            \"start\": convert_seconds_to_timecode(start_time),\n",
    "            \"end\": convert_seconds_to_timecode(end_time)\n",
    "        })\n",
    "\n",
    "    # Salvar os resultados em um arquivo JSON\n",
    "    #with open(output_json_path, 'w') as json_file:\n",
    "        #json.dump(detection_results, json_file, indent=4)\n",
    "\n",
    "    cap.release()\n",
    "    print(detection_results)"
   ]
  },
  {
   "cell_type": "code",
   "execution_count": 28,
   "metadata": {},
   "outputs": [
    {
     "name": "stdout",
     "output_type": "stream",
     "text": [
      "../videos/15s-canto-esquerdo-grande.mp4\n",
      "0.5\n",
      "[{'start': '00:00:00', 'end': '00:00:15'}]\n"
     ]
    }
   ],
   "source": [
    "video_path = \"../videos/15s-canto-esquerdo-grande.mp4\"\n",
    "logo_path = \"../target/logo_target.png\"\n",
    "detect_logo_in_video(video_path, logo_path)"
   ]
  },
  {
   "cell_type": "code",
   "execution_count": null,
   "metadata": {},
   "outputs": [],
   "source": []
  }
 ],
 "metadata": {
  "kernelspec": {
   "display_name": "venv",
   "language": "python",
   "name": "python3"
  },
  "language_info": {
   "codemirror_mode": {
    "name": "ipython",
    "version": 3
   },
   "file_extension": ".py",
   "mimetype": "text/x-python",
   "name": "python",
   "nbconvert_exporter": "python",
   "pygments_lexer": "ipython3",
   "version": "3.11.4"
  }
 },
 "nbformat": 4,
 "nbformat_minor": 2
}
